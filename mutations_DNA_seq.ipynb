{
 "cells": [
  {
   "cell_type": "code",
   "execution_count": 1,
   "metadata": {},
   "outputs": [
    {
     "name": "stdout",
     "output_type": "stream",
     "text": [
      "enter DNA sequence: atgcataa\n"
     ]
    },
    {
     "data": {
      "text/plain": [
       "['A', 'T', 'G', 'C', 'A', 'T', 'A', 'A']"
      ]
     },
     "execution_count": 1,
     "metadata": {},
     "output_type": "execute_result"
    }
   ],
   "source": [
    "string1=input(\"enter DNA sequence: \")\n",
    "lis1=[]\n",
    "DNA_1=string1.upper()\n",
    "for i in DNA_1:\n",
    "    if i==\"A\" or i== \"T\" or i== \"G\" or i== \"C\":\n",
    "        lis1.append(i)\n",
    "       \n",
    "        \n",
    "    else:\n",
    "        print(\"please enter valid DNA seq(ATGC)\")\n",
    "        break\n",
    "lis1"
   ]
  },
  {
   "cell_type": "code",
   "execution_count": 2,
   "metadata": {},
   "outputs": [
    {
     "name": "stdout",
     "output_type": "stream",
     "text": [
      "enter DNA sequence of same length of seq 2: atgaccta\n"
     ]
    },
    {
     "data": {
      "text/plain": [
       "['A', 'T', 'G', 'A', 'C', 'C', 'T', 'A']"
      ]
     },
     "execution_count": 2,
     "metadata": {},
     "output_type": "execute_result"
    }
   ],
   "source": [
    "string2=input(\"enter DNA sequence of same length of seq 2: \")\n",
    "lis2=[]\n",
    "DNA_2=string2.upper()\n",
    "for i in DNA_2:\n",
    "    if i==\"A\" or i== \"T\" or i== \"G\" or i== \"C\":\n",
    "        lis2.append(i)\n",
    "       \n",
    "        \n",
    "    else:\n",
    "        print(\"please enter valid DNA seq(ATGC)\")\n",
    "        break\n",
    "lis2"
   ]
  },
  {
   "cell_type": "code",
   "execution_count": 9,
   "metadata": {},
   "outputs": [
    {
     "name": "stdout",
     "output_type": "stream",
     "text": [
      "Mutations Between:\n",
      "C A\n",
      "Mutations Between:\n",
      "A C\n",
      "Mutations Between:\n",
      "T C\n",
      "Mutations Between:\n",
      "A T\n",
      "Mutations between two seq is: 4\n",
      "Seq 1: ATGCATAA\n",
      "Seq 1: ATGACCTA\n"
     ]
    }
   ],
   "source": [
    "mutations=0\n",
    "if len(DNA_1)==len(DNA_2):\n",
    "    for i, j in zip(DNA_1,DNA_2):\n",
    "        if i != j and i != '-' and j != '-':\n",
    "            print(\"Mutations Between:\")\n",
    "            print(i,j)\n",
    "            mutations+=1   \n",
    "        \n",
    "else:\n",
    "    print(\"not same length\")\n",
    "print(\"Mutations between two seq is:\",mutations) \n",
    "print(\"Seq 1:\",DNA_1)\n",
    "print(\"Seq 1:\",DNA_2)"
   ]
  },
  {
   "cell_type": "code",
   "execution_count": null,
   "metadata": {},
   "outputs": [],
   "source": []
  },
  {
   "cell_type": "code",
   "execution_count": null,
   "metadata": {},
   "outputs": [],
   "source": []
  },
  {
   "cell_type": "code",
   "execution_count": null,
   "metadata": {},
   "outputs": [],
   "source": []
  }
 ],
 "metadata": {
  "kernelspec": {
   "display_name": "Python 3",
   "language": "python",
   "name": "python3"
  },
  "language_info": {
   "codemirror_mode": {
    "name": "ipython",
    "version": 3
   },
   "file_extension": ".py",
   "mimetype": "text/x-python",
   "name": "python",
   "nbconvert_exporter": "python",
   "pygments_lexer": "ipython3",
   "version": "3.7.3"
  }
 },
 "nbformat": 4,
 "nbformat_minor": 2
}
